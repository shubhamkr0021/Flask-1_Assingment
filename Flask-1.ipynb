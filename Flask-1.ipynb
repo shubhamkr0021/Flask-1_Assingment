{
 "cells": [
  {
   "cell_type": "markdown",
   "id": "1f1dd76f-028b-4ac0-b132-70687610d5c3",
   "metadata": {},
   "source": [
    "Q1) What is Flask Framework? What are the advantages of Flask Framework?"
   ]
  },
  {
   "cell_type": "markdown",
   "id": "7f7d6af3-aee1-478d-afdf-3ab430a55786",
   "metadata": {},
   "source": [
    "Ans) Flask is a lightweight and flexible web framework for Python designed to make getting started with web development quick and easy. It's known for its simplicity, minimalism, and ease of use, making it a popular choice for building web applications, APIs, and prototypes.\n",
    "\n",
    "Advantages of Flask Framework:\n",
    "\n",
    ". Simplicity and Minimalism\n",
    "\n",
    ". Easy to Get Started\n",
    "\n",
    ". Flexibility\n",
    " \n",
    ". Extensibility and Modularity\n",
    "\n",
    ". Jinja2 Templating\n",
    "\n",
    ". Built-in Development Server\n",
    "\n",
    ". Werkzeug Integration\n",
    "\n",
    ". Active Community and Documentation\n",
    "\n",
    ". Scalability"
   ]
  },
  {
   "cell_type": "markdown",
   "id": "3ebba7cf-cc4c-47f9-8153-1a472d3b2827",
   "metadata": {},
   "source": [
    "Q3) What is App routing in Flask? Why do we use app routes?"
   ]
  },
  {
   "cell_type": "markdown",
   "id": "e9584ac0-fb22-4d99-b629-16d6add34d80",
   "metadata": {},
   "source": [
    "Ans) App routing refers to the process of mapping URLs (or routes) to Python functions within a web application. It allows you to define different endpoints and associate them with specific functions that should be executed when a client sends a request to those URLs.\n",
    "\n",
    "App routes provide a way to structure a web application by defining different endpoints and specifying the actions to be taken when clients make requests to those endpoints. They are fundamental in defining the behavior and functionality of a Flask application."
   ]
  },
  {
   "cell_type": "markdown",
   "id": "62e73565-f253-48a8-a2dc-ce60c14066d4",
   "metadata": {},
   "source": [
    "Q5) What function is used in Flask for URL Building? Write a Python code to demonstrate the working of the\n",
    "url_for() function."
   ]
  },
  {
   "cell_type": "markdown",
   "id": "c8010f41-f02a-4c7b-9778-11e01c5680c4",
   "metadata": {},
   "source": [
    "Ans) Function is used for URL building. It generates a URL for the specified endpoint by referencing the view function. This function abstracts the URL changes, making it easier to manage URLs by referring to the endpoint's logical name rather than hardcoding URLs in the code.\n"
   ]
  },
  {
   "cell_type": "code",
   "execution_count": 3,
   "id": "b15d1ef8-166a-4688-916d-5c7ff534cd4c",
   "metadata": {},
   "outputs": [
    {
     "data": {
      "text/plain": [
       "\"\\nfrom flask import Flask, url_for\\n\\napp = Flask(__name__)\\n\\n@app.route('/')\\ndef home():\\n    \\n    about_url = url_for('about')\\n    return f'The URL for the about page is: {about_url}'\\n\\n@app.route('/about')\\ndef about():\\n    return 'About page'\\n\\nif __name__ == '__main__':\\n    app.run(debug=True)\\n\""
      ]
     },
     "execution_count": 3,
     "metadata": {},
     "output_type": "execute_result"
    }
   ],
   "source": [
    "'''\n",
    "from flask import Flask, url_for\n",
    "\n",
    "app = Flask(__name__)\n",
    "\n",
    "@app.route('/')\n",
    "def home():\n",
    "    \n",
    "    about_url = url_for('about')\n",
    "    return f'The URL for the about page is: {about_url}'\n",
    "\n",
    "@app.route('/about')\n",
    "def about():\n",
    "    return 'About page'\n",
    "\n",
    "if __name__ == '__main__':\n",
    "    app.run(debug=True)\n",
    "'''"
   ]
  }
 ],
 "metadata": {
  "kernelspec": {
   "display_name": "Python 3 (ipykernel)",
   "language": "python",
   "name": "python3"
  },
  "language_info": {
   "codemirror_mode": {
    "name": "ipython",
    "version": 3
   },
   "file_extension": ".py",
   "mimetype": "text/x-python",
   "name": "python",
   "nbconvert_exporter": "python",
   "pygments_lexer": "ipython3",
   "version": "3.10.8"
  }
 },
 "nbformat": 4,
 "nbformat_minor": 5
}
